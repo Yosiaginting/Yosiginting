{
 "cells": [
  {
   "cell_type": "code",
   "execution_count": 2,
   "metadata": {},
   "outputs": [
    {
     "name": "stdout",
     "output_type": "stream",
     "text": [
      "[22, 23, 24, 25, 26, 27]\n"
     ]
    }
   ],
   "source": [
    "x=[]\n",
    "for a in range (21,27):\n",
    "    d = a+1\n",
    "    x.append(d)\n",
    "print(x)"
   ]
  },
  {
   "cell_type": "code",
   "execution_count": 15,
   "metadata": {
    "scrolled": true
   },
   "outputs": [
    {
     "name": "stdout",
     "output_type": "stream",
     "text": [
      "Harry Style\n",
      "Zayn Malik\n",
      "Louis Tomlison\n",
      "Niall Horan\n",
      "Liam Payne\n"
     ]
    }
   ],
   "source": [
    "data= [\"Harry Style\",\"Zayn Malik\",\"Louis Tomlison\",\"Niall Horan\",\"Liam Payne\"]\n",
    "for One_direction in data:\n",
    "    print(One_direction)"
   ]
  },
  {
   "cell_type": "code",
   "execution_count": 8,
   "metadata": {},
   "outputs": [
    {
     "name": "stdout",
     "output_type": "stream",
     "text": [
      "Data ke 11\n",
      "Data ke 12\n",
      "Data ke 13\n",
      "Data ke 14\n",
      "Data ke 15\n",
      "Data ke 16\n",
      "Data ke 17\n",
      "Data ke 18\n",
      "Data ke 19\n",
      "Data ke 20\n"
     ]
    }
   ],
   "source": [
    "data1 =11\n",
    "data2 =20\n",
    "while data1 <= data2 :\n",
    "    print(\"Data ke\", data1)\n",
    "    data1 = data1 + 1"
   ]
  },
  {
   "cell_type": "code",
   "execution_count": 11,
   "metadata": {},
   "outputs": [
    {
     "name": "stdout",
     "output_type": "stream",
     "text": [
      "Anda liburan bersama keluarga\n"
     ]
    }
   ],
   "source": [
    "pulang = True\n",
    "liburan = True\n",
    "\n",
    "if liburan == True:\n",
    "    if pulang == True:\n",
    "        print(\"Anda liburan bersama keluarga\")\n",
    "    else:\n",
    "        print(\"Anda liburan tanpa keluarga\")\n",
    "else:\n",
    "    if pulang == False:\n",
    "        print(\"tidak tahu\")\n",
    "    else:\n",
    "        print(\"Lakukan sesutu aktivitas di rumah\")"
   ]
  },
  {
   "cell_type": "code",
   "execution_count": 2,
   "metadata": {},
   "outputs": [
    {
     "name": "stdout",
     "output_type": "stream",
     "text": [
      "anda tidak pulang karena harga tiket mahal\n"
     ]
    }
   ],
   "source": [
    "ongkos = 2100000\n",
    "if ongkos >=2100000:\n",
    "     print (\"anda tidak pulang karena harga tiket mahal\")\n",
    "elif 2000000<=ongkos>2500000:\n",
    "     print (\"an harus segera pulang sebelum harga tiket lebih mahal\")\n",
    "else :\n",
    "    print(\"gak tau\")"
   ]
  },
  {
   "cell_type": "code",
   "execution_count": 3,
   "metadata": {},
   "outputs": [
    {
     "name": "stdout",
     "output_type": "stream",
     "text": [
      "anda tidak pulang karena harga tiket mahal\n"
     ]
    }
   ],
   "source": [
    "ongkos = 3000000\n",
    "if ongkos >=3000000:\n",
    "    print(\"anda tidak pulang karena harga tiket mahal\")\n",
    "elif 2500000<=ongkos>2700000:\n",
    "    print (\"anda harus segera pulang sebelum harga tiket mahal\")\n",
    "else :\n",
    "    print(\"pulang\")"
   ]
  },
  {
   "cell_type": "code",
   "execution_count": 15,
   "metadata": {},
   "outputs": [
    {
     "name": "stdout",
     "output_type": "stream",
     "text": [
      "sudah pasti sukses\n"
     ]
    }
   ],
   "source": [
    "bekerja_keras = True\n",
    "rajin_ibadah = True \n",
    "cerdas = True\n",
    "\n",
    "if bekerja_keras == True: #jika orang tersebut bekerja keras\n",
    "    if rajin_ibadah == True: #jika orang tersebut bekerja keras dan rajin ibadah \n",
    "        if cerdas == True:  #jika orang tersebut bekerja keras,rajin ibadah,dan cerdas\n",
    "            print('sudah pasti sukses')\n",
    "        else: #jika orang tersebut bekerja keras,rajin ibadah tetapi tidak cerdas\n",
    "            print ('harus lebih giat lagi')\n",
    "    else: #jika orang tersebut bekerja keras tetapi tidak rajin ibadah\n",
    "         if cerdas == True: #jika orang tersebut bekerja keras,tidak rajin ibadah, tetapi cerdas\n",
    "            print ('belum tentu sukses')\n",
    "         else: #jika orang tersebut bekerja keras,tetapi tidak rajin ibadah dan tidak cerdas\n",
    "             print ('berpeluang kecil untuk sukses')\n",
    "else: #jika orang tersebut tidak bekerja keras \n",
    "        if rajin_ibadah == True: #jika orang tersebut tidak bekerja keras,tetapi rajin ibadah\n",
    "            if cerdas == True: #jika oramg tersebut tidak bekerja keras tetapi rajin ibadah dan cerdas\n",
    "                print ('sukses')\n",
    "            else: #jika orang tersebut tidak bekerja keras tetapi rajin ibadah dan tidak cerdas\n",
    "                print('belum tentu sukses')\n",
    "        else: #jika orang tersebut tidak bekerja keras dan tidak rajin ibadah \n",
    "            if cerdas == True: #jika orang tersebut tidak bekerja keras dan tidak rajin iabdah tetapiu cerdas\n",
    "                print('sedikit sukses')\n",
    "            else: #jika orang tersebut sudah bekerja keras dan tidak rajin ibadah maupun cerdas\n",
    "                print ('belum sukses')\n",
    "                "
   ]
  },
  {
   "cell_type": "code",
   "execution_count": 19,
   "metadata": {},
   "outputs": [
    {
     "name": "stdout",
     "output_type": "stream",
     "text": [
      "Angka:  0  lebih kecil dari 9\n",
      "Angka:  1  lebih kecil dari 9\n",
      "Angka:  2  lebih kecil dari 9\n",
      "Angka:  3  lebih kecil dari 9\n",
      "Angka:  4  lebih kecil dari 9\n",
      "Angka:  5  lebih kecil dari 9\n",
      "Angka:  6  lebih kecil dari 9\n",
      "Angka:  7  lebih kecil dari 9\n",
      "Angka:  8  lebih kecil dari 9\n",
      "Angka:  9  tidak lebih kecil dari 9\n",
      "selesai\n"
     ]
    }
   ],
   "source": [
    "nilai = 0\n",
    "while (nilai < 9):\n",
    "        print ('Angka: ', nilai,' lebih kecil dari 9')\n",
    "        nilai = nilai + 1\n",
    "else:\n",
    "        print ('Angka: ', nilai,' tidak lebih kecil dari 9')\n",
    " \n",
    "print ('selesai')"
   ]
  },
  {
   "cell_type": "code",
   "execution_count": 20,
   "metadata": {},
   "outputs": [
    {
     "name": "stdout",
     "output_type": "stream",
     "text": [
      "Inputkan nilaimu: 85Yosi\n"
     ]
    },
    {
     "ename": "TypeError",
     "evalue": "'>=' not supported between instances of 'str' and 'int'",
     "output_type": "error",
     "traceback": [
      "\u001b[1;31m---------------------------------------------------------------------------\u001b[0m",
      "\u001b[1;31mTypeError\u001b[0m                                 Traceback (most recent call last)",
      "\u001b[1;32m<ipython-input-20-5cc31d8c8602>\u001b[0m in \u001b[0;36m<module>\u001b[1;34m\u001b[0m\n\u001b[0;32m      1\u001b[0m \u001b[0mnilai\u001b[0m \u001b[1;33m=\u001b[0m \u001b[0minput\u001b[0m\u001b[1;33m(\u001b[0m\u001b[1;34m\"Inputkan nilaimu: 85\"\u001b[0m\u001b[1;33m)\u001b[0m\u001b[1;33m\u001b[0m\u001b[1;33m\u001b[0m\u001b[0m\n\u001b[0;32m      2\u001b[0m \u001b[1;33m\u001b[0m\u001b[0m\n\u001b[1;32m----> 3\u001b[1;33m \u001b[1;32mif\u001b[0m \u001b[0mnilai\u001b[0m \u001b[1;33m>=\u001b[0m \u001b[1;36m90\u001b[0m\u001b[1;33m:\u001b[0m\u001b[1;33m\u001b[0m\u001b[1;33m\u001b[0m\u001b[0m\n\u001b[0m\u001b[0;32m      4\u001b[0m    \u001b[0mgrade\u001b[0m \u001b[1;33m=\u001b[0m \u001b[1;34m\"A\"\u001b[0m\u001b[1;33m\u001b[0m\u001b[1;33m\u001b[0m\u001b[0m\n\u001b[0;32m      5\u001b[0m \u001b[1;32melif\u001b[0m \u001b[0mnilai\u001b[0m \u001b[1;33m>=\u001b[0m \u001b[1;36m80\u001b[0m\u001b[1;33m:\u001b[0m\u001b[1;33m\u001b[0m\u001b[1;33m\u001b[0m\u001b[0m\n",
      "\u001b[1;31mTypeError\u001b[0m: '>=' not supported between instances of 'str' and 'int'"
     ]
    }
   ],
   "source": [
    "\n",
    "nilai = input(\"Inputkan nilaimu: 85\")\n",
    "\n",
    "if nilai >= 90:\n",
    "   grade = \"A\"\n",
    "elif nilai >= 80:\n",
    "   grade = \"B+\"\n",
    "elif nilai >= 70:\n",
    "   grade = \"B\"\n",
    "elif nilai >= 60:\n",
    "   grade = \"C+\"\n",
    "elif nilai >= 50:\n",
    "   grade = \"C\"\n",
    "elif nilai >= 40:\n",
    "   grade = \"D\"\n",
    "else:\n",
    "   grade = \"E\"\n",
    "\n",
    "print(\"Grade: %s\" % grade)"
   ]
  },
  {
   "cell_type": "code",
   "execution_count": null,
   "metadata": {},
   "outputs": [],
   "source": []
  }
 ],
 "metadata": {
  "kernelspec": {
   "display_name": "Python 3",
   "language": "python",
   "name": "python3"
  },
  "language_info": {
   "codemirror_mode": {
    "name": "ipython",
    "version": 3
   },
   "file_extension": ".py",
   "mimetype": "text/x-python",
   "name": "python",
   "nbconvert_exporter": "python",
   "pygments_lexer": "ipython3",
   "version": "3.7.4"
  }
 },
 "nbformat": 4,
 "nbformat_minor": 2
}
